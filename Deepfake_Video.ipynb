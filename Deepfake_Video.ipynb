{
  "cells": [
    {
      "cell_type": "markdown",
      "metadata": {
        "id": "D3L8Lkyj-5gl"
      },
      "source": [
        "# Faz o clone do repositório e instala dependencias"
      ]
    },
    {
      "cell_type": "code",
      "execution_count": null,
      "metadata": {
        "id": "0aHr4Fo-7IRy"
      },
      "outputs": [],
      "source": [
        "!git clone https://github.com/s0md3v/roop.git\n",
        "%cd roop\n",
        "!pip install -r requirements.txt"
      ]
    },
    {
      "cell_type": "markdown",
      "metadata": {
        "id": "jl9zIFZYGWTQ"
      },
      "source": [
        "# Download do modelo"
      ]
    },
    {
      "cell_type": "code",
      "execution_count": null,
      "metadata": {
        "id": "Z6SA7jbZTN8i",
        "colab": {
          "base_uri": "https://localhost:8080/"
        },
        "outputId": "91c0f6c4-c8d7-44dc-eac2-e0d342ac9130"
      },
      "outputs": [
        {
          "output_type": "stream",
          "name": "stdout",
          "text": [
            "--2023-11-28 23:24:27--  https://huggingface.co/ezioruan/inswapper_128.onnx/resolve/main/inswapper_128.onnx\n",
            "Resolving huggingface.co (huggingface.co)... 13.33.33.102, 13.33.33.55, 13.33.33.20, ...\n",
            "Connecting to huggingface.co (huggingface.co)|13.33.33.102|:443... connected.\n",
            "HTTP request sent, awaiting response... 302 Found\n",
            "Location: https://cdn-lfs.huggingface.co/repos/40/3c/403ce23d3f5c02a28fcbe749205d5c8245b2812e6c948bae7abac24495779bc7/e4a3f08c753cb72d04e10aa0f7dbe3deebbf39567d4ead6dce08e98aa49e16af?response-content-disposition=attachment%3B+filename*%3DUTF-8%27%27inswapper_128.onnx%3B+filename%3D%22inswapper_128.onnx%22%3B&Expires=1701470407&Policy=eyJTdGF0ZW1lbnQiOlt7IkNvbmRpdGlvbiI6eyJEYXRlTGVzc1RoYW4iOnsiQVdTOkVwb2NoVGltZSI6MTcwMTQ3MDQwN319LCJSZXNvdXJjZSI6Imh0dHBzOi8vY2RuLWxmcy5odWdnaW5nZmFjZS5jby9yZXBvcy80MC8zYy80MDNjZTIzZDNmNWMwMmEyOGZjYmU3NDkyMDVkNWM4MjQ1YjI4MTJlNmM5NDhiYWU3YWJhYzI0NDk1Nzc5YmM3L2U0YTNmMDhjNzUzY2I3MmQwNGUxMGFhMGY3ZGJlM2RlZWJiZjM5NTY3ZDRlYWQ2ZGNlMDhlOThhYTQ5ZTE2YWY%7EcmVzcG9uc2UtY29udGVudC1kaXNwb3NpdGlvbj0qIn1dfQ__&Signature=YV2en9LmoW5GuAdlAOv35jPiEJQ7dv8VMRbYi-Ayul42HKV735g9zs9VeQRycc-OaMbEqGboSurLZa0L7%7EqBATwRg-yvCRthpcEpo6yXMgooyGIzF3XQXnzp6ocW2qRlVNCOkGDtAo82UEgWW13amIoghPlJoqFMyOBM0cGJdGFbdXZLCFS-vvMTuzCGjqtTvb4xbH73cPC%7E4myviLevoJHMSiNZWF09rNJvQZlrELCmQdLyDEsk9srzUs5-6REmxvzoHAVUYZ8fWm9-4egYor317itxdhFOX7GvL2zxMduaZYWEN8MmISeHuMaR5TnFMzT3ASyfWBmRvJZlbU85WA__&Key-Pair-Id=KVTP0A1DKRTAX [following]\n",
            "--2023-11-28 23:24:27--  https://cdn-lfs.huggingface.co/repos/40/3c/403ce23d3f5c02a28fcbe749205d5c8245b2812e6c948bae7abac24495779bc7/e4a3f08c753cb72d04e10aa0f7dbe3deebbf39567d4ead6dce08e98aa49e16af?response-content-disposition=attachment%3B+filename*%3DUTF-8%27%27inswapper_128.onnx%3B+filename%3D%22inswapper_128.onnx%22%3B&Expires=1701470407&Policy=eyJTdGF0ZW1lbnQiOlt7IkNvbmRpdGlvbiI6eyJEYXRlTGVzc1RoYW4iOnsiQVdTOkVwb2NoVGltZSI6MTcwMTQ3MDQwN319LCJSZXNvdXJjZSI6Imh0dHBzOi8vY2RuLWxmcy5odWdnaW5nZmFjZS5jby9yZXBvcy80MC8zYy80MDNjZTIzZDNmNWMwMmEyOGZjYmU3NDkyMDVkNWM4MjQ1YjI4MTJlNmM5NDhiYWU3YWJhYzI0NDk1Nzc5YmM3L2U0YTNmMDhjNzUzY2I3MmQwNGUxMGFhMGY3ZGJlM2RlZWJiZjM5NTY3ZDRlYWQ2ZGNlMDhlOThhYTQ5ZTE2YWY%7EcmVzcG9uc2UtY29udGVudC1kaXNwb3NpdGlvbj0qIn1dfQ__&Signature=YV2en9LmoW5GuAdlAOv35jPiEJQ7dv8VMRbYi-Ayul42HKV735g9zs9VeQRycc-OaMbEqGboSurLZa0L7%7EqBATwRg-yvCRthpcEpo6yXMgooyGIzF3XQXnzp6ocW2qRlVNCOkGDtAo82UEgWW13amIoghPlJoqFMyOBM0cGJdGFbdXZLCFS-vvMTuzCGjqtTvb4xbH73cPC%7E4myviLevoJHMSiNZWF09rNJvQZlrELCmQdLyDEsk9srzUs5-6REmxvzoHAVUYZ8fWm9-4egYor317itxdhFOX7GvL2zxMduaZYWEN8MmISeHuMaR5TnFMzT3ASyfWBmRvJZlbU85WA__&Key-Pair-Id=KVTP0A1DKRTAX\n",
            "Resolving cdn-lfs.huggingface.co (cdn-lfs.huggingface.co)... 13.33.33.93, 13.33.33.119, 13.33.33.45, ...\n",
            "Connecting to cdn-lfs.huggingface.co (cdn-lfs.huggingface.co)|13.33.33.93|:443... connected.\n",
            "HTTP request sent, awaiting response... 200 OK\n",
            "Length: 554253681 (529M) [binary/octet-stream]\n",
            "Saving to: ‘inswapper_128.onnx’\n",
            "\n",
            "inswapper_128.onnx  100%[===================>] 528.58M   303MB/s    in 1.7s    \n",
            "\n",
            "2023-11-28 23:24:29 (303 MB/s) - ‘inswapper_128.onnx’ saved [554253681/554253681]\n",
            "\n"
          ]
        }
      ],
      "source": [
        "!wget https://huggingface.co/ezioruan/inswapper_128.onnx/resolve/main/inswapper_128.onnx -O inswapper_128.onnx\n",
        "!mkdir models\n",
        "!mv inswapper_128.onnx ./models"
      ]
    },
    {
      "cell_type": "markdown",
      "metadata": {
        "id": "McO5R_O8JlrE"
      },
      "source": [
        "# Uso de GPU"
      ]
    },
    {
      "cell_type": "code",
      "execution_count": null,
      "metadata": {
        "id": "gKrwR2oEFkuC"
      },
      "outputs": [],
      "source": [
        "!pip uninstall onnxruntime onnxruntime-gpu -y\n",
        "!pip install torch torchvision torchaudio --force-reinstall --index-url https://download.pytorch.org/whl/cu118\n",
        "!pip install onnxruntime-gpu"
      ]
    },
    {
      "cell_type": "markdown",
      "metadata": {
        "id": "nCKli1C-_EaO"
      },
      "source": [
        "# Deepfake"
      ]
    },
    {
      "cell_type": "code",
      "source": [
        "import os"
      ],
      "metadata": {
        "id": "Za2v-rArJPcP"
      },
      "execution_count": null,
      "outputs": []
    },
    {
      "cell_type": "code",
      "source": [
        "def varias_faces(video_entrada: str, imagem_com_rosto: str, video_saida: str, qualidade: int =50):\n",
        "\n",
        "  try:\n",
        "    print('Iniciando... \\nEsse processo leva vários minutos')\n",
        "    comando = f'python /content/roop/run.py --target {video_entrada}  --source {imagem_com_rosto} -o /content/{video_saida} --many-faces --output-video-quality {int(qualidade)} --execution-provider cuda --frame-processor face_swapper face_enhancer'\n",
        "    os.system(comando)\n",
        "    print('Tudo certo! Aproveite seu video!')\n",
        "  except:\n",
        "    print(f'Opsss... alguma coisa deu errada. Verifique o nome e extersão dos arquivos.')"
      ],
      "metadata": {
        "id": "dE3KptaIJSdo"
      },
      "execution_count": null,
      "outputs": []
    },
    {
      "cell_type": "code",
      "source": [
        "def uma_face(video_entrada: str, imagem_com_rosto: str, video_saida: str, qualidade: int =50):\n",
        "\n",
        "  try:\n",
        "    print('Iniciando... \\nEsse processo leva vários minutos')\n",
        "    comando = f'python /content/roop/run.py --target {video_entrada}  --source {imagem_com_rosto} -o /content/{video_saida} --output-video-quality {int(qualidade)} --execution-provider cuda --frame-processor face_swapper face_enhancer'\n",
        "    os.system(comando)\n",
        "    print('Tudo certo! Aproveite seu video!')\n",
        "  except:\n",
        "    print(f'Opsss... alguma coisa deu errada. Verifique o nome e extersão dos arquivos.')"
      ],
      "metadata": {
        "id": "wFYcnedoKNQy"
      },
      "execution_count": null,
      "outputs": []
    },
    {
      "cell_type": "code",
      "source": [
        "video_entrada = '/content/video_entrada.mp4'\n",
        "imagem_com_rosto = '/content/Eu.jpeg'\n",
        "video_saida = 'video_de_saida.mp4'\n",
        "# qualidade, numero entre 0 e 100\n",
        "qualidade = 50\n",
        "\n",
        "uma_face(video_entrada, imagem_com_rosto,video_saida, qualidade)\n",
        "#varias_faces(video_entrada, imagem_com_rosto,video_saida, qualidade)"
      ],
      "metadata": {
        "id": "S3fEmRp9JVAt",
        "colab": {
          "base_uri": "https://localhost:8080/"
        },
        "outputId": "124ed1b4-e496-476a-c426-6cac47eed5ef"
      },
      "execution_count": null,
      "outputs": [
        {
          "output_type": "stream",
          "name": "stdout",
          "text": [
            "Iniciando... \n",
            "Esse processo leva vários minutos\n",
            "Tudo certo! Aproveite seu video!\n"
          ]
        }
      ]
    }
  ],
  "metadata": {
    "accelerator": "GPU",
    "colab": {
      "provenance": [],
      "gpuType": "T4"
    },
    "kernelspec": {
      "display_name": "Python 3",
      "name": "python3"
    },
    "language_info": {
      "name": "python"
    }
  },
  "nbformat": 4,
  "nbformat_minor": 0
}