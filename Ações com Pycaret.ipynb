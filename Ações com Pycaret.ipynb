{
  "nbformat": 4,
  "nbformat_minor": 0,
  "metadata": {
    "colab": {
      "provenance": []
    },
    "kernelspec": {
      "name": "python3",
      "display_name": "Python 3"
    },
    "language_info": {
      "name": "python"
    },
    "widgets": {
      "application/vnd.jupyter.widget-state+json": {
        "00d6e8ee9c6549e182d075ab0d587244": {
          "model_module": "@jupyter-widgets/controls",
          "model_name": "HBoxModel",
          "model_module_version": "1.5.0",
          "state": {
            "_dom_classes": [],
            "_model_module": "@jupyter-widgets/controls",
            "_model_module_version": "1.5.0",
            "_model_name": "HBoxModel",
            "_view_count": null,
            "_view_module": "@jupyter-widgets/controls",
            "_view_module_version": "1.5.0",
            "_view_name": "HBoxView",
            "box_style": "",
            "children": [
              "IPY_MODEL_c6076b943a854ec1bbb34a45c7f9b58d",
              "IPY_MODEL_1177cc114fef452ca9149afd2bc035f5",
              "IPY_MODEL_681a8f4fbf4a4144abfc30fd1fdd6562"
            ],
            "layout": "IPY_MODEL_232add626f7b48af811f7474cde45004"
          }
        },
        "c6076b943a854ec1bbb34a45c7f9b58d": {
          "model_module": "@jupyter-widgets/controls",
          "model_name": "HTMLModel",
          "model_module_version": "1.5.0",
          "state": {
            "_dom_classes": [],
            "_model_module": "@jupyter-widgets/controls",
            "_model_module_version": "1.5.0",
            "_model_name": "HTMLModel",
            "_view_count": null,
            "_view_module": "@jupyter-widgets/controls",
            "_view_module_version": "1.5.0",
            "_view_name": "HTMLView",
            "description": "",
            "description_tooltip": null,
            "layout": "IPY_MODEL_86ad731e107840ac97d96fd2e983117d",
            "placeholder": "​",
            "style": "IPY_MODEL_ef0abc7660e84b4cb78def3e29736b12",
            "value": "Processing:  98%"
          }
        },
        "1177cc114fef452ca9149afd2bc035f5": {
          "model_module": "@jupyter-widgets/controls",
          "model_name": "FloatProgressModel",
          "model_module_version": "1.5.0",
          "state": {
            "_dom_classes": [],
            "_model_module": "@jupyter-widgets/controls",
            "_model_module_version": "1.5.0",
            "_model_name": "FloatProgressModel",
            "_view_count": null,
            "_view_module": "@jupyter-widgets/controls",
            "_view_module_version": "1.5.0",
            "_view_name": "ProgressView",
            "bar_style": "danger",
            "description": "",
            "description_tooltip": null,
            "layout": "IPY_MODEL_29da20587e3b42c1971987409ed583de",
            "max": 83,
            "min": 0,
            "orientation": "horizontal",
            "style": "IPY_MODEL_edcbb03946d64bf5b502d7d36842b89e",
            "value": 81
          }
        },
        "681a8f4fbf4a4144abfc30fd1fdd6562": {
          "model_module": "@jupyter-widgets/controls",
          "model_name": "HTMLModel",
          "model_module_version": "1.5.0",
          "state": {
            "_dom_classes": [],
            "_model_module": "@jupyter-widgets/controls",
            "_model_module_version": "1.5.0",
            "_model_name": "HTMLModel",
            "_view_count": null,
            "_view_module": "@jupyter-widgets/controls",
            "_view_module_version": "1.5.0",
            "_view_name": "HTMLView",
            "description": "",
            "description_tooltip": null,
            "layout": "IPY_MODEL_97e0c37d81c846d9a5b92c3ee1b7d9c6",
            "placeholder": "​",
            "style": "IPY_MODEL_efbc998f316b47849745f79f998bc941",
            "value": " 81/83 [00:12&lt;00:00,  7.90it/s]"
          }
        },
        "232add626f7b48af811f7474cde45004": {
          "model_module": "@jupyter-widgets/base",
          "model_name": "LayoutModel",
          "model_module_version": "1.2.0",
          "state": {
            "_model_module": "@jupyter-widgets/base",
            "_model_module_version": "1.2.0",
            "_model_name": "LayoutModel",
            "_view_count": null,
            "_view_module": "@jupyter-widgets/base",
            "_view_module_version": "1.2.0",
            "_view_name": "LayoutView",
            "align_content": null,
            "align_items": null,
            "align_self": null,
            "border": null,
            "bottom": null,
            "display": null,
            "flex": null,
            "flex_flow": null,
            "grid_area": null,
            "grid_auto_columns": null,
            "grid_auto_flow": null,
            "grid_auto_rows": null,
            "grid_column": null,
            "grid_gap": null,
            "grid_row": null,
            "grid_template_areas": null,
            "grid_template_columns": null,
            "grid_template_rows": null,
            "height": null,
            "justify_content": null,
            "justify_items": null,
            "left": null,
            "margin": null,
            "max_height": null,
            "max_width": null,
            "min_height": null,
            "min_width": null,
            "object_fit": null,
            "object_position": null,
            "order": null,
            "overflow": null,
            "overflow_x": null,
            "overflow_y": null,
            "padding": null,
            "right": null,
            "top": null,
            "visibility": null,
            "width": null
          }
        },
        "86ad731e107840ac97d96fd2e983117d": {
          "model_module": "@jupyter-widgets/base",
          "model_name": "LayoutModel",
          "model_module_version": "1.2.0",
          "state": {
            "_model_module": "@jupyter-widgets/base",
            "_model_module_version": "1.2.0",
            "_model_name": "LayoutModel",
            "_view_count": null,
            "_view_module": "@jupyter-widgets/base",
            "_view_module_version": "1.2.0",
            "_view_name": "LayoutView",
            "align_content": null,
            "align_items": null,
            "align_self": null,
            "border": null,
            "bottom": null,
            "display": null,
            "flex": null,
            "flex_flow": null,
            "grid_area": null,
            "grid_auto_columns": null,
            "grid_auto_flow": null,
            "grid_auto_rows": null,
            "grid_column": null,
            "grid_gap": null,
            "grid_row": null,
            "grid_template_areas": null,
            "grid_template_columns": null,
            "grid_template_rows": null,
            "height": null,
            "justify_content": null,
            "justify_items": null,
            "left": null,
            "margin": null,
            "max_height": null,
            "max_width": null,
            "min_height": null,
            "min_width": null,
            "object_fit": null,
            "object_position": null,
            "order": null,
            "overflow": null,
            "overflow_x": null,
            "overflow_y": null,
            "padding": null,
            "right": null,
            "top": null,
            "visibility": null,
            "width": null
          }
        },
        "ef0abc7660e84b4cb78def3e29736b12": {
          "model_module": "@jupyter-widgets/controls",
          "model_name": "DescriptionStyleModel",
          "model_module_version": "1.5.0",
          "state": {
            "_model_module": "@jupyter-widgets/controls",
            "_model_module_version": "1.5.0",
            "_model_name": "DescriptionStyleModel",
            "_view_count": null,
            "_view_module": "@jupyter-widgets/base",
            "_view_module_version": "1.2.0",
            "_view_name": "StyleView",
            "description_width": ""
          }
        },
        "29da20587e3b42c1971987409ed583de": {
          "model_module": "@jupyter-widgets/base",
          "model_name": "LayoutModel",
          "model_module_version": "1.2.0",
          "state": {
            "_model_module": "@jupyter-widgets/base",
            "_model_module_version": "1.2.0",
            "_model_name": "LayoutModel",
            "_view_count": null,
            "_view_module": "@jupyter-widgets/base",
            "_view_module_version": "1.2.0",
            "_view_name": "LayoutView",
            "align_content": null,
            "align_items": null,
            "align_self": null,
            "border": null,
            "bottom": null,
            "display": null,
            "flex": null,
            "flex_flow": null,
            "grid_area": null,
            "grid_auto_columns": null,
            "grid_auto_flow": null,
            "grid_auto_rows": null,
            "grid_column": null,
            "grid_gap": null,
            "grid_row": null,
            "grid_template_areas": null,
            "grid_template_columns": null,
            "grid_template_rows": null,
            "height": null,
            "justify_content": null,
            "justify_items": null,
            "left": null,
            "margin": null,
            "max_height": null,
            "max_width": null,
            "min_height": null,
            "min_width": null,
            "object_fit": null,
            "object_position": null,
            "order": null,
            "overflow": null,
            "overflow_x": null,
            "overflow_y": null,
            "padding": null,
            "right": null,
            "top": null,
            "visibility": null,
            "width": null
          }
        },
        "edcbb03946d64bf5b502d7d36842b89e": {
          "model_module": "@jupyter-widgets/controls",
          "model_name": "ProgressStyleModel",
          "model_module_version": "1.5.0",
          "state": {
            "_model_module": "@jupyter-widgets/controls",
            "_model_module_version": "1.5.0",
            "_model_name": "ProgressStyleModel",
            "_view_count": null,
            "_view_module": "@jupyter-widgets/base",
            "_view_module_version": "1.2.0",
            "_view_name": "StyleView",
            "bar_color": null,
            "description_width": ""
          }
        },
        "97e0c37d81c846d9a5b92c3ee1b7d9c6": {
          "model_module": "@jupyter-widgets/base",
          "model_name": "LayoutModel",
          "model_module_version": "1.2.0",
          "state": {
            "_model_module": "@jupyter-widgets/base",
            "_model_module_version": "1.2.0",
            "_model_name": "LayoutModel",
            "_view_count": null,
            "_view_module": "@jupyter-widgets/base",
            "_view_module_version": "1.2.0",
            "_view_name": "LayoutView",
            "align_content": null,
            "align_items": null,
            "align_self": null,
            "border": null,
            "bottom": null,
            "display": null,
            "flex": null,
            "flex_flow": null,
            "grid_area": null,
            "grid_auto_columns": null,
            "grid_auto_flow": null,
            "grid_auto_rows": null,
            "grid_column": null,
            "grid_gap": null,
            "grid_row": null,
            "grid_template_areas": null,
            "grid_template_columns": null,
            "grid_template_rows": null,
            "height": null,
            "justify_content": null,
            "justify_items": null,
            "left": null,
            "margin": null,
            "max_height": null,
            "max_width": null,
            "min_height": null,
            "min_width": null,
            "object_fit": null,
            "object_position": null,
            "order": null,
            "overflow": null,
            "overflow_x": null,
            "overflow_y": null,
            "padding": null,
            "right": null,
            "top": null,
            "visibility": null,
            "width": null
          }
        },
        "efbc998f316b47849745f79f998bc941": {
          "model_module": "@jupyter-widgets/controls",
          "model_name": "DescriptionStyleModel",
          "model_module_version": "1.5.0",
          "state": {
            "_model_module": "@jupyter-widgets/controls",
            "_model_module_version": "1.5.0",
            "_model_name": "DescriptionStyleModel",
            "_view_count": null,
            "_view_module": "@jupyter-widgets/base",
            "_view_module_version": "1.2.0",
            "_view_name": "StyleView",
            "description_width": ""
          }
        }
      }
    }
  },
  "cells": [
    {
      "cell_type": "markdown",
      "source": [
        "# Notebook para previsão de ações na bolsa, usando o dataset do YFinance e uso da biblioteca Pycaret"
      ],
      "metadata": {
        "id": "ig5L137ofAeE"
      }
    },
    {
      "cell_type": "code",
      "execution_count": null,
      "metadata": {
        "id": "7jUeV7gbqVph"
      },
      "outputs": [],
      "source": [
        "#instalando as bibliotes pois o COLAB não tem como padrão\n",
        "!pip install pycaret\n",
        "!pip install yfinance"
      ]
    },
    {
      "cell_type": "code",
      "source": [
        "#importando bibliotecas\n",
        "import pandas as pd\n",
        "import yfinance as yf\n",
        "from sklearn.model_selection import train_test_split"
      ],
      "metadata": {
        "id": "UNWcQEYSrzGl"
      },
      "execution_count": null,
      "outputs": []
    },
    {
      "cell_type": "code",
      "source": [
        "#escolhendo uma ação\n",
        "df = yf.Ticker('MRFG3.SA')\n",
        "acao = df.history(period='2y')\n",
        "acao.head()"
      ],
      "metadata": {
        "id": "JSiv1Cgtr9Sv"
      },
      "execution_count": null,
      "outputs": []
    },
    {
      "cell_type": "code",
      "source": [
        "#excluindo alguns campos\n",
        "acao = acao.drop(['Dividends','Stock Splits'], axis=1)\n",
        "acao.head()"
      ],
      "metadata": {
        "id": "21DcphFqsaLi"
      },
      "execution_count": null,
      "outputs": []
    },
    {
      "cell_type": "code",
      "source": [
        "#criando novos features de apoio\n",
        "acao['MM07d'] = acao['Close'].rolling(window=7).mean().round(2)\n",
        "acao['MM21d'] = acao['Close'].rolling(window=21).mean().round(2)\n",
        "acao['MM45d'] = acao['Close'].rolling(window=45).mean().round(2)\n",
        "acao.head(10)"
      ],
      "metadata": {
        "id": "kCyQLONKsvVB"
      },
      "execution_count": null,
      "outputs": []
    },
    {
      "cell_type": "code",
      "source": [
        "#retirando linhas com valores nulo\n",
        "acao.dropna(inplace=True)\n",
        "acao.head(10)"
      ],
      "metadata": {
        "id": "2eq9ptabu4gw"
      },
      "execution_count": null,
      "outputs": []
    },
    {
      "cell_type": "code",
      "source": [
        "# resetar os índices pois quando eliminou os nulos ficou bagunçado\n",
        "acao.reset_index(drop=False,inplace=True) # para excluir colocar True no drop\n",
        "acao.head(10)"
      ],
      "metadata": {
        "id": "HhIdx0E-tYQA"
      },
      "execution_count": null,
      "outputs": []
    },
    {
      "cell_type": "code",
      "source": [
        "#Quebrando a base de dados em teste e validação\n",
        "DFTreino, DFValidacao = train_test_split(acao, test_size=0.10, random_state=42)\n",
        "#Avaliando as bases\n",
        "print('Base Treino...: ',DFTreino.shape)\n",
        "print('Base Validacao: ',DFValidacao.shape)"
      ],
      "metadata": {
        "colab": {
          "base_uri": "https://localhost:8080/"
        },
        "id": "yl-dU8TMvtA5",
        "outputId": "77dfda27-08b8-4cf9-a5c3-5988e0d4e822"
      },
      "execution_count": null,
      "outputs": [
        {
          "output_type": "stream",
          "name": "stdout",
          "text": [
            "Base Treino...:  (409, 9)\n",
            "Base Validacao:  (46, 9)\n"
          ]
        }
      ]
    },
    {
      "cell_type": "code",
      "source": [
        "#DFValidacao['Date'] = '2022-02-01 00:00:00-03:00'\n",
        "#DFValidacao['Open'] = 9.28\n",
        "#DFValidacao['High'] = 0\n",
        "#DFValidacao['Low'] = 0\n",
        "#DFValidacao['Close'] = 0\n",
        "#DFValidacao['Volume'] = 0\n",
        "#DFValidacao['MM07d'] = 0\n",
        "#DFValidacao['MM21d'] = 0\n",
        "#DFValidacao['MM45d'] = 0"
      ],
      "metadata": {
        "id": "Fr5V4dzRJOjy"
      },
      "execution_count": null,
      "outputs": []
    },
    {
      "cell_type": "code",
      "source": [
        "# importando a biblioteca pycaret\n",
        "from pycaret.regression import *\n",
        "\n",
        "# setar os dados para o modelo\n",
        "setup(data = DFTreino, target='Close',session_id= 123)"
      ],
      "metadata": {
        "id": "Xda030ZLwJ92"
      },
      "execution_count": null,
      "outputs": []
    },
    {
      "cell_type": "code",
      "source": [
        "# 25 modelos\n",
        "top3 = compare_models(n_select = 3)"
      ],
      "metadata": {
        "colab": {
          "base_uri": "https://localhost:8080/",
          "height": 81,
          "referenced_widgets": [
            "00d6e8ee9c6549e182d075ab0d587244",
            "c6076b943a854ec1bbb34a45c7f9b58d",
            "1177cc114fef452ca9149afd2bc035f5",
            "681a8f4fbf4a4144abfc30fd1fdd6562",
            "232add626f7b48af811f7474cde45004",
            "86ad731e107840ac97d96fd2e983117d",
            "ef0abc7660e84b4cb78def3e29736b12",
            "29da20587e3b42c1971987409ed583de",
            "edcbb03946d64bf5b502d7d36842b89e",
            "97e0c37d81c846d9a5b92c3ee1b7d9c6",
            "efbc998f316b47849745f79f998bc941"
          ]
        },
        "id": "Pr5HLknxw5Sl",
        "outputId": "ceca2a19-1684-4dec-cbd8-0ec4d8c0636d"
      },
      "execution_count": null,
      "outputs": [
        {
          "output_type": "display_data",
          "data": {
            "text/plain": [
              "<IPython.core.display.HTML object>"
            ],
            "text/html": []
          },
          "metadata": {}
        },
        {
          "output_type": "display_data",
          "data": {
            "text/plain": [
              "<pandas.io.formats.style.Styler at 0x78c6232345e0>"
            ],
            "text/html": [
              "<style type=\"text/css\">\n",
              "#T_97c4f th {\n",
              "  text-align: left;\n",
              "}\n",
              "#T_97c4f_row0_col0 {\n",
              "  text-align: left;\n",
              "}\n",
              "#T_97c4f_row0_col1, #T_97c4f_row0_col2, #T_97c4f_row0_col3, #T_97c4f_row0_col4, #T_97c4f_row0_col5, #T_97c4f_row0_col6 {\n",
              "  text-align: left;\n",
              "  background-color: yellow;\n",
              "}\n",
              "#T_97c4f_row0_col7 {\n",
              "  text-align: left;\n",
              "  background-color: yellow;\n",
              "  background-color: lightgrey;\n",
              "}\n",
              "</style>\n",
              "<table id=\"T_97c4f\" class=\"dataframe\">\n",
              "  <thead>\n",
              "    <tr>\n",
              "      <th class=\"blank level0\" >&nbsp;</th>\n",
              "      <th id=\"T_97c4f_level0_col0\" class=\"col_heading level0 col0\" >Model</th>\n",
              "      <th id=\"T_97c4f_level0_col1\" class=\"col_heading level0 col1\" >MAE</th>\n",
              "      <th id=\"T_97c4f_level0_col2\" class=\"col_heading level0 col2\" >MSE</th>\n",
              "      <th id=\"T_97c4f_level0_col3\" class=\"col_heading level0 col3\" >RMSE</th>\n",
              "      <th id=\"T_97c4f_level0_col4\" class=\"col_heading level0 col4\" >R2</th>\n",
              "      <th id=\"T_97c4f_level0_col5\" class=\"col_heading level0 col5\" >RMSLE</th>\n",
              "      <th id=\"T_97c4f_level0_col6\" class=\"col_heading level0 col6\" >MAPE</th>\n",
              "      <th id=\"T_97c4f_level0_col7\" class=\"col_heading level0 col7\" >TT (Sec)</th>\n",
              "    </tr>\n",
              "  </thead>\n",
              "  <tbody>\n",
              "    <tr>\n",
              "      <th id=\"T_97c4f_level0_row0\" class=\"row_heading level0 row0\" >dummy</th>\n",
              "      <td id=\"T_97c4f_row0_col0\" class=\"data row0 col0\" >Dummy Regressor</td>\n",
              "      <td id=\"T_97c4f_row0_col1\" class=\"data row0 col1\" >2.9708</td>\n",
              "      <td id=\"T_97c4f_row0_col2\" class=\"data row0 col2\" >13.5797</td>\n",
              "      <td id=\"T_97c4f_row0_col3\" class=\"data row0 col3\" >3.6546</td>\n",
              "      <td id=\"T_97c4f_row0_col4\" class=\"data row0 col4\" >-0.0773</td>\n",
              "      <td id=\"T_97c4f_row0_col5\" class=\"data row0 col5\" >0.3080</td>\n",
              "      <td id=\"T_97c4f_row0_col6\" class=\"data row0 col6\" >0.3054</td>\n",
              "      <td id=\"T_97c4f_row0_col7\" class=\"data row0 col7\" >0.0280</td>\n",
              "    </tr>\n",
              "  </tbody>\n",
              "</table>\n"
            ]
          },
          "metadata": {}
        },
        {
          "output_type": "display_data",
          "data": {
            "text/plain": [
              "Processing:   0%|          | 0/83 [00:00<?, ?it/s]"
            ],
            "application/vnd.jupyter.widget-view+json": {
              "version_major": 2,
              "version_minor": 0,
              "model_id": "00d6e8ee9c6549e182d075ab0d587244"
            }
          },
          "metadata": {
            "application/vnd.jupyter.widget-view+json": {
              "colab": {
                "custom_widget_manager": {
                  "url": "https://ssl.gstatic.com/colaboratory-static/widgets/colab-cdn-widget-manager/b3e629b1971e1542/manager.min.js"
                }
              }
            }
          }
        },
        {
          "output_type": "display_data",
          "data": {
            "text/plain": [
              "<IPython.core.display.HTML object>"
            ],
            "text/html": []
          },
          "metadata": {}
        }
      ]
    },
    {
      "cell_type": "code",
      "source": [
        "print(top3)"
      ],
      "metadata": {
        "colab": {
          "base_uri": "https://localhost:8080/"
        },
        "id": "3Tp1j3umxp6A",
        "outputId": "6d075c52-3593-4b2f-fa46-7df1df013aad"
      },
      "execution_count": null,
      "outputs": [
        {
          "output_type": "stream",
          "name": "stdout",
          "text": [
            "DummyRegressor()\n"
          ]
        }
      ]
    },
    {
      "cell_type": "code",
      "source": [
        "LR = create_model('lr',fold=10)"
      ],
      "metadata": {
        "id": "8YAZcmdyyQkq"
      },
      "execution_count": null,
      "outputs": []
    },
    {
      "cell_type": "code",
      "source": [
        "plot_model(LR,plot='error')"
      ],
      "metadata": {
        "id": "bprJKss8yq3O"
      },
      "execution_count": null,
      "outputs": []
    },
    {
      "cell_type": "code",
      "source": [
        "plot_model(LR,plot='feature')"
      ],
      "metadata": {
        "id": "rSBt3IZb0FFO"
      },
      "execution_count": null,
      "outputs": []
    },
    {
      "cell_type": "code",
      "source": [
        "#testando com dados de treinamento\n",
        "predict_model(LR)"
      ],
      "metadata": {
        "id": "d8FaVVMR0RNT"
      },
      "execution_count": null,
      "outputs": []
    },
    {
      "cell_type": "code",
      "source": [
        "#finaliza o modelo\n",
        "modelo_final = finalize_model(LR)"
      ],
      "metadata": {
        "id": "vqqgIPm00rBv"
      },
      "execution_count": null,
      "outputs": []
    },
    {
      "cell_type": "code",
      "source": [
        "#testando com dados de validação\n",
        "previsao = predict_model(modelo_final,data=DFValidacao)\n",
        "previsao.head(10)"
      ],
      "metadata": {
        "id": "ny8W0-hy02s5"
      },
      "execution_count": null,
      "outputs": []
    },
    {
      "cell_type": "code",
      "source": [
        "models()"
      ],
      "metadata": {
        "id": "IoC8RpRk1vy_"
      },
      "execution_count": null,
      "outputs": []
    },
    {
      "cell_type": "code",
      "source": [
        "rna = create_model('mlp', fold=7)"
      ],
      "metadata": {
        "id": "zTvSJmaU1wym"
      },
      "execution_count": null,
      "outputs": []
    },
    {
      "cell_type": "code",
      "source": [
        "predict_model(rna)"
      ],
      "metadata": {
        "id": "53wzky_e2FvL"
      },
      "execution_count": null,
      "outputs": []
    },
    {
      "cell_type": "code",
      "source": [
        "acao.to_csv('Ações_Mafrig.csv',header=True)"
      ],
      "metadata": {
        "id": "PyLNxjsi2iLi"
      },
      "execution_count": null,
      "outputs": []
    }
  ]
}