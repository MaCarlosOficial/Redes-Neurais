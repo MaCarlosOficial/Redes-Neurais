{
  "nbformat": 4,
  "nbformat_minor": 0,
  "metadata": {
    "colab": {
      "provenance": []
    },
    "kernelspec": {
      "name": "python3",
      "display_name": "Python 3"
    }
  },
  "cells": [
    {
      "cell_type": "markdown",
      "source": [
        "#Rede neural com Sklearn utilizando o dataset do Titanic"
      ],
      "metadata": {
        "id": "_rDEepCmgCuz"
      }
    },
    {
      "cell_type": "code",
      "metadata": {
        "id": "T9Iyj8P9COBJ"
      },
      "source": [
        "#importando as bibliotecas necessárias\n",
        "import pandas as pd\n",
        "import os\n",
        "import matplotlib.pyplot as plt\n",
        "import numpy as np\n",
        "import seaborn as sns\n",
        "from sklearn.model_selection import train_test_split\n",
        "from sklearn.preprocessing import LabelEncoder\n",
        "from sklearn.feature_selection import SelectKBest, SelectPercentile, f_regression, f_classif\n",
        "from sklearn.neural_network import MLPClassifier\n",
        "from sklearn.metrics import classification_report,confusion_matrix"
      ],
      "execution_count": null,
      "outputs": []
    },
    {
      "cell_type": "code",
      "source": [
        "#carregando o datset - disponível em https://www.kaggle.com/competitions/titanic\n",
        "TitanicDF  = pd.read_csv('Titanic-Dataset.csv', encoding='latin-1', sep=',')\n",
        "TitanicDF.info()\n",
        "TitanicDF.describe()"
      ],
      "metadata": {
        "id": "4YOn4AO3NT36"
      },
      "execution_count": null,
      "outputs": []
    },
    {
      "cell_type": "code",
      "source": [
        "#Avaliando o domínio dos dados nulos\n",
        "print('-------- Age ----------')\n",
        "print(f\"Distinct entries: {len(TitanicDF.groupby(['Age']))}\")\n",
        "print(TitanicDF['Age'].unique)\n",
        "print('-------- Cabin ----------')\n",
        "print(f\"Distinct entries: {len(TitanicDF.groupby(['Cabin']))}\")\n",
        "print(TitanicDF['Cabin'].unique)\n",
        "print('-------- Embarked ----------')\n",
        "print(f\"Distinct entries: {len(TitanicDF.groupby(['Embarked']))}\")\n",
        "print(TitanicDF['Embarked'].unique)"
      ],
      "metadata": {
        "id": "cMCPoQkKNUNX"
      },
      "execution_count": null,
      "outputs": []
    },
    {
      "cell_type": "code",
      "source": [
        "#preenchendo campos nulos\n",
        "mediaIdade = TitanicDF['Age'].mean()\n",
        "TitanicDF.update(TitanicDF['Age'].fillna(mediaIdade))\n",
        "TitanicDF.update(TitanicDF['Cabin'].fillna('ABC'))\n",
        "TitanicDF.update(TitanicDF['Embarked'].fillna('S'))"
      ],
      "metadata": {
        "id": "Db43Bor3OBUR"
      },
      "execution_count": null,
      "outputs": []
    },
    {
      "cell_type": "code",
      "source": [
        "#analisando o dataset\n",
        "TitanicDF.info()\n",
        "TitanicDF.head()"
      ],
      "metadata": {
        "id": "eZ8pUdi7QyE5"
      },
      "execution_count": null,
      "outputs": []
    },
    {
      "cell_type": "code",
      "source": [
        "#### plotando a correlação das variaveis\n",
        "plt.figure(figsize=(10, 7))\n",
        "sns.heatmap(TitanicDF.corr(),\n",
        "            annot = True,\n",
        "            fmt = '.2f',\n",
        "            cmap='Blues')\n",
        "plt.title('Correlação entre variáveis')\n",
        "plt.show()"
      ],
      "metadata": {
        "id": "qfRv-AyCQ_wX"
      },
      "execution_count": null,
      "outputs": []
    },
    {
      "cell_type": "code",
      "source": [
        "#separando a base em treino e validação\n",
        "DFTreino, DFValidacao = train_test_split(TitanicDF, test_size=0.20, random_state=42)\n",
        "\n",
        "#Avaliando as bases\n",
        "print(f\"Base de Treino...: {DFTreino.shape}\")\n",
        "print(f\"Base de Validação: {DFValidacao.shape}\")"
      ],
      "metadata": {
        "colab": {
          "base_uri": "https://localhost:8080/"
        },
        "id": "iPtUWSFmVkyc",
        "outputId": "e1b0f407-d080-4092-b88d-acfc6b5b97b6"
      },
      "execution_count": null,
      "outputs": [
        {
          "output_type": "stream",
          "name": "stdout",
          "text": [
            "Base de Treino...: (712, 12)\n",
            "Base de Validação: (179, 12)\n"
          ]
        }
      ]
    },
    {
      "cell_type": "code",
      "source": [
        "#normalizando os campos categoricos\n",
        "lbE = LabelEncoder()\n",
        "DFTreino['Sex'] = lbE.fit_transform(DFTreino['Sex'])\n",
        "DFTreino['Embarked'] = lbE.fit_transform(DFTreino['Embarked'])\n",
        "DFTreino['Ticket'] = lbE.fit_transform(DFTreino['Ticket'])\n",
        "DFTreino['Cabin'] = lbE.fit_transform(DFTreino['Cabin'])\n",
        "\n",
        "#remover campos que não fazem sentido\n",
        "X = DFTreino.drop([\"Name\",\"Survived\",\"PassengerId\"], axis=1)\n",
        "y = DFTreino[\"Survived\"]"
      ],
      "metadata": {
        "id": "CbNSk2iRlYwX"
      },
      "execution_count": null,
      "outputs": []
    },
    {
      "cell_type": "code",
      "source": [
        "#Quebrando a base de dados de TREINO para teste e validação\n",
        "X_treino, X_teste, y_treino, y_teste = train_test_split(X,\n",
        "                                                        y,\n",
        "                                                        test_size = 0.30,\n",
        "                                                        random_state = 40)\n",
        "#Avaliando as bases\n",
        "X_treino.info()\n",
        "y_treino.info()"
      ],
      "metadata": {
        "id": "PJXdZqWrn-QR"
      },
      "execution_count": null,
      "outputs": []
    },
    {
      "cell_type": "code",
      "source": [
        "#Verificar a importância de cada variável através do KBest\n",
        "k = 7\n",
        "melhores = SelectKBest(score_func=f_regression, k=k)\n",
        "pontuacao = melhores.fit(X_treino,y_treino)\n",
        "features  = pontuacao.transform(X_treino)\n",
        "#Mostra resultados\n",
        "\n",
        "print('\\nQtde Original de variáveis: ', X_treino.shape[1])\n",
        "print('\\nQtde depois da redução   :', features.shape[1])\n",
        "\n",
        "#Mostrando as colunas selecionadas\n",
        "mask = melhores.get_support()\n",
        "print('Colunas selecionadas: ',X_treino.columns[mask])\n",
        "\n",
        "#grafico das melhores\n",
        "pd.Series(melhores.scores_, index=X_treino.columns).sort_values().plot.barh()"
      ],
      "metadata": {
        "id": "-65uNDxDXMVB"
      },
      "execution_count": null,
      "outputs": []
    },
    {
      "cell_type": "code",
      "source": [
        "#deixando apenas aas caracteristicas escolhida\n",
        "selecao = ['Pclass', 'Sex', 'Age', 'Ticket', 'Fare', 'Cabin', 'Embarked']\n",
        "\n",
        "X_treino = X_treino[selecao]\n",
        "X_teste  = X_teste[selecao]\n",
        "\n",
        "print(X_treino.shape)\n",
        "print(X_teste.shape)\n",
        "print(X_treino.info())"
      ],
      "metadata": {
        "id": "U_LNQ1jzgaP7"
      },
      "execution_count": null,
      "outputs": []
    },
    {
      "cell_type": "code",
      "source": [
        "mlp = MLPClassifier(hidden_layer_sizes=(200,), activation='relu', solver='adam', max_iter=800)\n",
        "mlp.fit(X_treino,y_treino)\n",
        "\n",
        "predict_treino = mlp.predict(X_treino)\n",
        "predict_teste  = mlp.predict(X_teste)"
      ],
      "metadata": {
        "id": "0esS5s5bbbAU"
      },
      "execution_count": null,
      "outputs": []
    },
    {
      "cell_type": "code",
      "source": [
        "#matriz de confusão\n",
        "print('Matriz de Confusão')\n",
        "print(confusion_matrix(y_treino,predict_treino))\n",
        "print('***-----------------***')\n",
        "\n",
        "print('Análise predição')\n",
        "print(classification_report(y_treino,predict_treino))"
      ],
      "metadata": {
        "id": "2zRXaK4vpS-g"
      },
      "execution_count": null,
      "outputs": []
    }
  ]
}